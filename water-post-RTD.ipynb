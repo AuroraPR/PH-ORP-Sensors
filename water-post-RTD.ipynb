{
 "cells": [
  {
   "cell_type": "code",
   "execution_count": 1,
   "id": "statutory-concern",
   "metadata": {},
   "outputs": [
    {
     "data": {
      "image/png": "[encoded data removed]",
      "text/plain": [
       "<Figure size 432x288 with 1 Axes>"
      ]
     },
     "metadata": {
      "needs_background": "light"
     },
     "output_type": "display_data"
    },
    {
     "name": "stdout",
     "output_type": "stream",
     "text": [
      "(32589, 2)\n"
     ]
    }
   ],
   "source": [
    "from pandas import read_csv\n",
    "from matplotlib import pyplot\n",
    "import sys\n",
    "import numpy as np\n",
    "import pandas as pd\n",
    "\n",
    "file=\"dataRTD.18785.txt\"\n",
    "\n",
    "\n",
    "noiseP=-30\n",
    "noiseN=5\n",
    "\n",
    "smoothP=-60\n",
    "smoothN=30\n",
    "\n",
    "baseP=-60\n",
    "baseN=30\n",
    "\n",
    "nowP=-10\n",
    "nowN=5\n",
    "\n",
    "threshold=5\n",
    "\n",
    "series=read_csv(file, sep=\"\\t\", header=None,parse_dates=True)\n",
    "series=series.values\n",
    "series\n",
    "\n",
    "\n",
    "series2 = pd.DataFrame(series)\n",
    "series2.plot()\n",
    "pyplot.show()\n",
    "\n",
    "print(series.shape)"
   ]
  },
  {
   "cell_type": "code",
   "execution_count": 2,
   "id": "changed-cherry",
   "metadata": {},
   "outputs": [
    {
     "data": {
      "text/plain": [
       "[5, 4, 3, 2, 1]"
      ]
     },
     "execution_count": 2,
     "metadata": {},
     "output_type": "execute_result"
    }
   ],
   "source": [
    "list(reversed(range(1,6)))"
   ]
  },
  {
   "cell_type": "code",
   "execution_count": 3,
   "id": "marked-electron",
   "metadata": {},
   "outputs": [
    {
     "name": "stdout",
     "output_type": "stream",
     "text": [
      "['06/07/2021 02:00:00' '06/07/2021 02:00:02' '06/07/2021 02:00:04' ...\n",
      " '06/08/2021 01:59:53' '06/08/2021 01:59:56' '06/08/2021 01:59:58']\n",
      "[1625529600.0 1625529602.0 1625529604.0 ... 1628207993.0 1628207996.0\n",
      " 1628207998.0]\n"
     ]
    },
    {
     "data": {
      "image/png": "[encoded data removed]",
      "text/plain": [
       "<Figure size 432x288 with 1 Axes>"
      ]
     },
     "metadata": {
      "needs_background": "light"
     },
     "output_type": "display_data"
    }
   ],
   "source": [
    "from datetime import datetime\n",
    "\n",
    "print((series[:,0]))\n",
    "\n",
    "for i in series:\n",
    "    i[0]=datetime.strptime(i[0], '%m/%d/%Y %H:%M:%S').timestamp()\n",
    "\n",
    "print((series[:,0]))\n",
    "\n",
    "series2 = pd.DataFrame({'Object1':series[:,0],'Object2':series[:,1]})\n",
    "series2.plot(x='Object1', y='Object2')\n",
    "pyplot.show()"
   ]
  },
  {
   "cell_type": "code",
   "execution_count": 4,
   "id": "returning-snake",
   "metadata": {},
   "outputs": [],
   "source": [
    "def getSubWindow(v,i,incT):\n",
    "    t0=v[i][0]\n",
    "    ret=[]\n",
    "    if(incT>0):\n",
    "        for j in range(i+1,len(v)):\n",
    "            if(v[j][0]<= t0+incT):\n",
    "                if(v[j][1]>=0):\n",
    "                    ret.append(v[j][1])\n",
    "            else:\n",
    "                 return ret\n",
    "    else:\n",
    "        for j in reversed(range(0,i-1)):\n",
    "            if(v[j][0]>= t0+incT):\n",
    "                if(v[j][1]>=0):\n",
    "                    ret.append(v[j][1])\n",
    "            else:\n",
    "                 return ret\n",
    "    return ret       "
   ]
  },
  {
   "cell_type": "code",
   "execution_count": 5,
   "id": "administrative-fitness",
   "metadata": {},
   "outputs": [
    {
     "name": "stdout",
     "output_type": "stream",
     "text": [
      "[25.85, 25.85, 25.85, 25.85, 25.85]\n",
      "25.85\n"
     ]
    }
   ],
   "source": [
    "getSubWindow(series,11,-5)\n",
    "\n",
    "def avg(lst):\n",
    "    if(len(lst)==0):\n",
    "        return -1\n",
    "    return sum(lst) / len(lst)\n",
    "\n",
    "print(getSubWindow(series,11,-15))\n",
    "print(avg(getSubWindow(series,11,-15)))\n",
    "\n",
    "\n"
   ]
  },
  {
   "cell_type": "code",
   "execution_count": 6,
   "id": "characteristic-suffering",
   "metadata": {},
   "outputs": [
    {
     "data": {
      "text/plain": [
       "[25.85, 25.84, 25.84, 25.84, 25.84]"
      ]
     },
     "execution_count": 6,
     "metadata": {},
     "output_type": "execute_result"
    }
   ],
   "source": [
    "def getSubWindowFP(v,i,incTF, incTP):\n",
    "    return getSubWindow(v,i,incTF)+(getSubWindow(v,i,incTP))\n",
    "\n",
    "getSubWindowFP(series,11,-5,10)"
   ]
  },
  {
   "cell_type": "code",
   "execution_count": 7,
   "id": "elementary-accuracy",
   "metadata": {},
   "outputs": [],
   "source": [
    "#Quitamos valores puntuales feos 0,-1\n",
    "for i in range(0,len(series)):\n",
    "    if(series[i][1]<=0):\n",
    "        print(getSubWindowFP(series,i,noiseP,noiseN),avg(getSubWindowFP(series,i,noiseP,noiseN)))\n",
    "        series[i][1]=avg(getSubWindowFP(series,i,noiseP,noiseN))\n",
    "        "
   ]
  },
  {
   "cell_type": "code",
   "execution_count": 8,
   "id": "magnetic-trading",
   "metadata": {},
   "outputs": [
    {
     "name": "stdout",
     "output_type": "stream",
     "text": [
      "[[1625529600.0 25.85]\n",
      " [1625529602.0 25.85]\n",
      " [1625529604.0 25.85]\n",
      " ...\n",
      " [1628207993.0 26.96]\n",
      " [1628207996.0 26.96]\n",
      " [1628207998.0 26.96]]\n"
     ]
    }
   ],
   "source": [
    "print(series)"
   ]
  },
  {
   "cell_type": "code",
   "execution_count": 9,
   "id": "floppy-quarterly",
   "metadata": {},
   "outputs": [
    {
     "name": "stdout",
     "output_type": "stream",
     "text": [
      "32589\n"
     ]
    },
    {
     "data": {
      "image/png": "[encoded data removed]",
      "text/plain": [
       "<Figure size 432x288 with 1 Axes>"
      ]
     },
     "metadata": {
      "needs_background": "light"
     },
     "output_type": "display_data"
    }
   ],
   "source": [
    "print(len(series))\n",
    "series2 = pd.DataFrame({'Object1':series[:,0],'Object2':series[:,1]})\n",
    "series2.plot(x='Object1', y='Object2')\n",
    "pyplot.show()"
   ]
  },
  {
   "cell_type": "code",
   "execution_count": 10,
   "id": "connected-kennedy",
   "metadata": {},
   "outputs": [
    {
     "data": {
      "image/png": "[encoded data removed]",
      "text/plain": [
       "<Figure size 432x288 with 1 Axes>"
      ]
     },
     "metadata": {
      "needs_background": "light"
     },
     "output_type": "display_data"
    }
   ],
   "source": [
    "#Quitamos valores puntuales feos 0,-1\n",
    "avg_series=np.zeros((len(series),2))\n",
    "for i in range(0,len(series)):\n",
    "        avg_series[i][1]=avg(getSubWindowFP(series,i,smoothP,smoothN))\n",
    "        avg_series[i][0]=series[i][0]\n",
    "series2 = pd.DataFrame({'Object1':avg_series[:,0],'Object2':avg_series[:,1]})\n",
    "series2.plot(x='Object1', y='Object2')\n",
    "pyplot.show()"
   ]
  },
  {
   "cell_type": "code",
   "execution_count": 11,
   "id": "minute-mistress",
   "metadata": {},
   "outputs": [
    {
     "name": "stdout",
     "output_type": "stream",
     "text": [
      "2021-07-06 08:51:36\n",
      "2021-07-06 08:51:43\n",
      "2021-07-06 08:51:45\n",
      "2021-07-06 08:51:48\n",
      "2021-07-06 14:24:09\n",
      "2021-07-06 14:24:12\n",
      "2021-07-06 14:24:14\n",
      "2021-07-06 14:24:16\n",
      "2021-07-06 14:24:19\n",
      "2021-07-06 14:24:21\n",
      "2021-07-06 14:24:24\n",
      "2021-07-06 14:25:23\n",
      "2021-07-06 14:25:25\n",
      "2021-07-06 14:25:30\n",
      "2021-07-06 14:25:33\n",
      "2021-07-06 14:25:35\n",
      "2021-07-06 14:25:37\n",
      "2021-07-06 14:25:40\n",
      "2021-07-06 14:25:42\n",
      "2021-07-06 14:25:45\n",
      "2021-07-06 14:25:47\n",
      "2021-07-06 17:44:08\n",
      "2021-07-06 19:12:35\n",
      "2021-07-06 19:19:29\n",
      "2021-07-06 19:19:31\n",
      "2021-07-06 19:19:34\n",
      "2021-07-06 19:19:36\n",
      "2021-07-06 19:19:39\n",
      "2021-07-06 19:19:41\n",
      "2021-07-06 19:19:43\n",
      "2021-07-06 19:19:46\n",
      "2021-07-06 19:19:48\n",
      "2021-07-06 20:00:01\n",
      "2021-07-06 20:00:04\n",
      "2021-07-06 20:06:40\n",
      "2021-07-06 20:06:43\n",
      "2021-07-06 20:06:45\n",
      "2021-07-06 21:41:34\n",
      "2021-07-06 21:41:36\n",
      "2021-07-06 21:41:39\n",
      "2021-07-06 21:41:41\n",
      "2021-07-06 21:41:44\n",
      "2021-07-06 21:41:49\n",
      "2021-07-06 21:41:51\n",
      "2021-07-06 23:32:21\n",
      "2021-07-06 23:32:23\n",
      "2021-07-06 23:32:25\n",
      "2021-07-06 23:32:28\n",
      "2021-07-06 23:32:30\n"
     ]
    },
    {
     "data": {
      "image/png": "[encoded data removed]",
      "text/plain": [
       "<Figure size 432x288 with 1 Axes>"
      ]
     },
     "metadata": {
      "needs_background": "light"
     },
     "output_type": "display_data"
    }
   ],
   "source": [
    "#Computamos bajadas\n",
    "\n",
    "avg_up=np.zeros((len(series),2))\n",
    "for i in range(0,len(series)):\n",
    "        avg_up[i][1]=avg(getSubWindowFP(series,i,baseP,baseN))-avg(getSubWindowFP(series,i,nowP,nowN))\n",
    "        avg_up[i][0]=series[i][0]\n",
    "        if(avg_up[i][1]>0.1):\n",
    "            print( datetime.fromtimestamp(avg_up[i][0]))\n",
    "series2 = pd.DataFrame({'Object1':avg_up[:,0],'Object2':avg_up[:,1]})\n",
    "series2.plot(x='Object1', y='Object2')\n",
    "pyplot.show()"
   ]
  },
  {
   "cell_type": "code",
   "execution_count": 13,
   "id": "deluxe-expert",
   "metadata": {},
   "outputs": [
    {
     "name": "stdout",
     "output_type": "stream",
     "text": [
      "2021-07-06 14:24:36\n",
      "2021-07-06 14:24:38\n",
      "2021-07-06 14:24:40\n",
      "2021-07-06 14:24:43\n",
      "2021-07-06 14:24:45\n",
      "2021-07-06 14:24:47\n",
      "2021-07-06 14:24:49\n",
      "2021-07-06 14:24:52\n",
      "2021-07-06 14:24:54\n",
      "2021-07-06 19:20:00\n",
      "2021-07-06 19:20:02\n",
      "2021-07-06 19:20:05\n",
      "2021-07-06 19:20:10\n",
      "2021-07-06 19:20:12\n",
      "2021-07-06 19:20:14\n",
      "2021-07-06 19:20:17\n",
      "2021-07-06 19:20:19\n",
      "2021-07-06 21:42:06\n",
      "2021-07-06 21:42:08\n",
      "2021-07-06 21:42:10\n",
      "2021-07-06 21:42:13\n",
      "2021-07-06 21:42:15\n",
      "2021-07-06 23:32:52\n",
      "2021-07-06 23:32:54\n",
      "2021-07-06 23:32:57\n",
      "2021-07-06 23:32:59\n",
      "2021-07-06 23:33:04\n"
     ]
    },
    {
     "data": {
      "image/png": "[encoded data removed]",
      "text/plain": [
       "<Figure size 432x288 with 1 Axes>"
      ]
     },
     "metadata": {
      "needs_background": "light"
     },
     "output_type": "display_data"
    }
   ],
   "source": [
    "#Computamos subidas\n",
    "avg_down=np.zeros((len(series),2))\n",
    "f = open(\"rtd-down.tsv\", \"w\")\n",
    "for i in range(0,len(series)):\n",
    "        avg_down[i][1]=avg(getSubWindowFP(series,i,baseP,baseN))-avg(getSubWindowFP(series,i,nowP,nowN))\n",
    "        avg_down[i][0]=series[i][0]\n",
    "        f.write(str(datetime.fromtimestamp(avg_down[i][0]))+\"\\t\")\n",
    "        if(avg_down[i][1]<-0.5):\n",
    "            print( datetime.fromtimestamp(avg_down[i][0]))\n",
    "            f.write(\"1\\n\")\n",
    "        else:\n",
    "            f.write(\"0\\n\")\n",
    "f.close()                 \n",
    "series2 = pd.DataFrame({'Object1':avg_down[:,0],'Object2':avg_down[:,1]})\n",
    "series2.plot(x='Object1', y='Object2')\n",
    "pyplot.show()"
   ]
  },
  {
   "cell_type": "code",
   "execution_count": null,
   "id": "green-moore",
   "metadata": {},
   "outputs": [],
   "source": []
  }
 ],
 "metadata": {
  "kernelspec": {
   "display_name": "Python 3",
   "language": "python",
   "name": "python3"
  },
  "language_info": {
   "codemirror_mode": {
    "name": "ipython",
    "version": 3
   },
   "file_extension": ".py",
   "mimetype": "text/x-python",
   "name": "python",
   "nbconvert_exporter": "python",
   "pygments_lexer": "ipython3",
   "version": "3.8.7"
  }
 },
 "nbformat": 4,
 "nbformat_minor": 5
}
