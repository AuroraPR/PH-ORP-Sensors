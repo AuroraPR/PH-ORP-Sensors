{
 "cells": [
  {
   "cell_type": "code",
   "execution_count": 1,
   "id": "statutory-concern",
   "metadata": {},
   "outputs": [
    {
     "data": {
      "image/png": "[encoded data removed]",
      "text/plain": [
       "<Figure size 432x288 with 1 Axes>"
      ]
     },
     "metadata": {
      "needs_background": "light"
     },
     "output_type": "display_data"
    },
    {
     "name": "stdout",
     "output_type": "stream",
     "text": [
      "(32589, 2)\n"
     ]
    }
   ],
   "source": [
    "from pandas import read_csv\n",
    "from matplotlib import pyplot\n",
    "import sys\n",
    "import numpy as np\n",
    "import pandas as pd\n",
    "\n",
    "file=\"dataORP.18785.txt\"\n",
    "\n",
    "\n",
    "noiseP=-30\n",
    "noiseN=5\n",
    "\n",
    "smoothP=-30\n",
    "smoothN=15\n",
    "\n",
    "baseP=-30\n",
    "baseN=5\n",
    "\n",
    "nowP=-10\n",
    "nowN=5\n",
    "\n",
    "threshold=5\n",
    "\n",
    "series=read_csv(file, sep=\"\\t\", header=None,parse_dates=True)\n",
    "series=series.values\n",
    "series\n",
    "\n",
    "\n",
    "series2 = pd.DataFrame(series)\n",
    "series2.plot()\n",
    "pyplot.show()\n",
    "\n",
    "print(series.shape)"
   ]
  },
  {
   "cell_type": "code",
   "execution_count": 2,
   "id": "changed-cherry",
   "metadata": {},
   "outputs": [
    {
     "data": {
      "text/plain": [
       "[5, 4, 3, 2, 1]"
      ]
     },
     "execution_count": 2,
     "metadata": {},
     "output_type": "execute_result"
    }
   ],
   "source": [
    "list(reversed(range(1,6)))"
   ]
  },
  {
   "cell_type": "code",
   "execution_count": 3,
   "id": "marked-electron",
   "metadata": {},
   "outputs": [
    {
     "name": "stdout",
     "output_type": "stream",
     "text": [
      "['06/07/2021 02:00:00' '06/07/2021 02:00:02' '06/07/2021 02:00:04' ...\n",
      " '06/08/2021 01:59:53' '06/08/2021 01:59:56' '06/08/2021 01:59:58']\n",
      "[1623024000.0 1623024002.0 1623024004.0 ... 1623110393.0 1623110396.0\n",
      " 1623110398.0]\n"
     ]
    },
    {
     "data": {
      "image/png": "[encoded data removed]",
      "text/plain": [
       "<Figure size 432x288 with 1 Axes>"
      ]
     },
     "metadata": {
      "needs_background": "light"
     },
     "output_type": "display_data"
    }
   ],
   "source": [
    "from datetime import datetime\n",
    "\n",
    "print((series[:,0]))\n",
    "\n",
    "for i in series:\n",
    "    i[0]=datetime.strptime(i[0], '%m/%d/%Y %H:%M:%S').timestamp()\n",
    "\n",
    "print((series[:,0]))\n",
    "\n",
    "series2 = pd.DataFrame({'Object1':series[:,0],'Object2':series[:,1]})\n",
    "series2.plot(x='Object1', y='Object2')\n",
    "pyplot.show()"
   ]
  },
  {
   "cell_type": "code",
   "execution_count": 4,
   "id": "returning-snake",
   "metadata": {},
   "outputs": [],
   "source": [
    "def getSubWindow(v,i,incT):\n",
    "    t0=v[i][0]\n",
    "    ret=[]\n",
    "    if(incT>0):\n",
    "        for j in range(i+1,len(v)):\n",
    "            if(v[j][0]<= t0+incT):\n",
    "                if(v[j][1]>=0):\n",
    "                    ret.append(v[j][1])\n",
    "            else:\n",
    "                 return ret\n",
    "    else:\n",
    "        for j in reversed(range(0,i-1)):\n",
    "            if(v[j][0]>= t0+incT):\n",
    "                if(v[j][1]>=0):\n",
    "                    ret.append(v[j][1])\n",
    "            else:\n",
    "                 return ret\n",
    "    return ret       "
   ]
  },
  {
   "cell_type": "code",
   "execution_count": 5,
   "id": "administrative-fitness",
   "metadata": {},
   "outputs": [
    {
     "name": "stdout",
     "output_type": "stream",
     "text": [
      "[122.9, 121.4, 122.7, 122.9, 121.9]\n",
      "122.35999999999999\n"
     ]
    }
   ],
   "source": [
    "getSubWindow(series,11,-5)\n",
    "\n",
    "def avg(lst):\n",
    "    if(len(lst)==0):\n",
    "        return -1\n",
    "    return sum(lst) / len(lst)\n",
    "\n",
    "print(getSubWindow(series,11,-15))\n",
    "print(avg(getSubWindow(series,11,-15)))\n",
    "\n",
    "\n"
   ]
  },
  {
   "cell_type": "code",
   "execution_count": 6,
   "id": "characteristic-suffering",
   "metadata": {},
   "outputs": [
    {
     "data": {
      "text/plain": [
       "[122.9, 122.9, 122.8, 122.8, 122.9]"
      ]
     },
     "execution_count": 6,
     "metadata": {},
     "output_type": "execute_result"
    }
   ],
   "source": [
    "def getSubWindowFP(v,i,incTF, incTP):\n",
    "    return getSubWindow(v,i,incTF)+(getSubWindow(v,i,incTP))\n",
    "\n",
    "getSubWindowFP(series,11,-5,10)"
   ]
  },
  {
   "cell_type": "code",
   "execution_count": 7,
   "id": "elementary-accuracy",
   "metadata": {},
   "outputs": [],
   "source": [
    "#Quitamos valores puntuales feos 0,-1\n",
    "for i in range(0,len(series)):\n",
    "    if(series[i][1]<=0):\n",
    "        print(getSubWindowFP(series,i,noiseP,noiseN),avg(getSubWindowFP(series,i,noiseP,noiseN)))\n",
    "        series[i][1]=avg(getSubWindowFP(series,i,noiseP,noiseN))\n",
    "        "
   ]
  },
  {
   "cell_type": "code",
   "execution_count": 8,
   "id": "magnetic-trading",
   "metadata": {},
   "outputs": [
    {
     "name": "stdout",
     "output_type": "stream",
     "text": [
      "[[1623024000.0 122.9]\n",
      " [1623024002.0 122.8]\n",
      " [1623024004.0 121.5]\n",
      " ...\n",
      " [1623110393.0 234.3]\n",
      " [1623110396.0 233.0]\n",
      " [1623110398.0 233.1]]\n"
     ]
    }
   ],
   "source": [
    "print(series)"
   ]
  },
  {
   "cell_type": "code",
   "execution_count": 9,
   "id": "floppy-quarterly",
   "metadata": {},
   "outputs": [
    {
     "name": "stdout",
     "output_type": "stream",
     "text": [
      "32589\n"
     ]
    },
    {
     "data": {
      "image/png": "[encoded data removed]",
      "text/plain": [
       "<Figure size 432x288 with 1 Axes>"
      ]
     },
     "metadata": {
      "needs_background": "light"
     },
     "output_type": "display_data"
    }
   ],
   "source": [
    "print(len(series))\n",
    "series2 = pd.DataFrame({'Object1':series[:,0],'Object2':series[:,1]})\n",
    "series2.plot(x='Object1', y='Object2')\n",
    "pyplot.show()"
   ]
  },
  {
   "cell_type": "code",
   "execution_count": 10,
   "id": "connected-kennedy",
   "metadata": {},
   "outputs": [
    {
     "data": {
      "image/png": "[encoded data removed]",
      "text/plain": [
       "<Figure size 432x288 with 1 Axes>"
      ]
     },
     "metadata": {
      "needs_background": "light"
     },
     "output_type": "display_data"
    }
   ],
   "source": [
    "#Quitamos valores puntuales feos 0,-1\n",
    "avg_series=np.zeros((len(series),2))\n",
    "for i in range(0,len(series)):\n",
    "        avg_series[i][1]=avg(getSubWindowFP(series,i,smoothP,smoothN))\n",
    "        avg_series[i][0]=series[i][0]\n",
    "series2 = pd.DataFrame({'Object1':avg_series[:,0],'Object2':avg_series[:,1]})\n",
    "series2.plot(x='Object1', y='Object2')\n",
    "pyplot.show()"
   ]
  },
  {
   "cell_type": "code",
   "execution_count": 13,
   "id": "minute-mistress",
   "metadata": {},
   "outputs": [
    {
     "name": "stdout",
     "output_type": "stream",
     "text": [
      "2021-06-07 14:23:47\n",
      "2021-06-07 14:23:49\n",
      "2021-06-07 14:23:52\n",
      "2021-06-07 14:23:54\n",
      "2021-06-07 14:23:57\n",
      "2021-06-07 14:23:59\n",
      "2021-06-07 14:24:02\n",
      "2021-06-07 14:24:04\n",
      "2021-06-07 14:24:06\n",
      "2021-06-07 14:24:09\n",
      "2021-06-07 14:24:12\n",
      "2021-06-07 14:24:14\n",
      "2021-06-07 14:24:16\n",
      "2021-06-07 14:24:19\n",
      "2021-06-07 14:24:21\n",
      "2021-06-07 14:24:29\n",
      "2021-06-07 14:24:31\n",
      "2021-06-07 14:24:33\n",
      "2021-06-07 14:24:36\n",
      "2021-06-07 14:24:38\n",
      "2021-06-07 14:24:40\n",
      "2021-06-07 14:24:43\n",
      "2021-06-07 14:24:45\n",
      "2021-06-07 14:24:47\n",
      "2021-06-07 14:24:49\n",
      "2021-06-07 14:24:52\n",
      "2021-06-07 14:24:54\n",
      "2021-06-07 14:24:59\n",
      "2021-06-07 14:25:01\n",
      "2021-06-07 14:25:03\n",
      "2021-06-07 19:12:33\n",
      "2021-06-07 19:12:38\n",
      "2021-06-07 19:12:43\n",
      "2021-06-07 19:12:46\n",
      "2021-06-07 19:12:48\n",
      "2021-06-07 19:12:50\n",
      "2021-06-07 19:12:53\n",
      "2021-06-07 19:12:58\n",
      "2021-06-07 19:13:00\n",
      "2021-06-07 19:13:02\n",
      "2021-06-07 19:13:05\n",
      "2021-06-07 19:13:07\n",
      "2021-06-07 19:13:10\n",
      "2021-06-07 19:13:13\n",
      "2021-06-07 19:13:15\n",
      "2021-06-07 19:13:17\n",
      "2021-06-07 19:13:19\n",
      "2021-06-07 19:13:22\n",
      "2021-06-07 19:13:24\n",
      "2021-06-07 19:13:29\n",
      "2021-06-07 19:13:31\n",
      "2021-06-07 19:13:34\n",
      "2021-06-07 19:13:36\n",
      "2021-06-07 19:13:39\n",
      "2021-06-07 19:13:44\n",
      "2021-06-07 19:19:46\n",
      "2021-06-07 19:19:48\n",
      "2021-06-07 19:19:50\n",
      "2021-06-07 19:19:55\n",
      "2021-06-07 19:19:58\n",
      "2021-06-07 19:20:00\n",
      "2021-06-07 19:20:02\n",
      "2021-06-07 19:20:05\n",
      "2021-06-07 19:20:10\n",
      "2021-06-07 19:20:12\n",
      "2021-06-07 19:20:14\n",
      "2021-06-07 19:20:17\n",
      "2021-06-07 19:20:19\n",
      "2021-06-07 19:20:25\n",
      "2021-06-07 21:38:20\n",
      "2021-06-07 21:38:22\n",
      "2021-06-07 21:38:25\n",
      "2021-06-07 21:38:28\n",
      "2021-06-07 21:38:30\n",
      "2021-06-07 21:38:32\n",
      "2021-06-07 21:38:59\n",
      "2021-06-07 21:39:01\n",
      "2021-06-07 21:39:04\n",
      "2021-06-07 21:39:06\n",
      "2021-06-07 21:39:08\n",
      "2021-06-07 21:39:11\n",
      "2021-06-07 21:39:14\n",
      "2021-06-07 21:39:16\n",
      "2021-06-07 21:39:18\n",
      "2021-06-07 21:39:20\n",
      "2021-06-07 21:39:23\n",
      "2021-06-07 21:39:25\n",
      "2021-06-07 21:39:30\n",
      "2021-06-07 21:39:33\n",
      "2021-06-07 21:39:35\n",
      "2021-06-07 21:39:37\n",
      "2021-06-07 21:39:40\n",
      "2021-06-07 21:39:45\n",
      "2021-06-07 21:42:10\n",
      "2021-06-07 21:42:13\n",
      "2021-06-07 21:42:15\n",
      "2021-06-07 21:42:20\n",
      "2021-06-07 21:42:23\n",
      "2021-06-07 21:43:28\n",
      "2021-06-07 21:43:31\n",
      "2021-06-07 21:43:36\n",
      "2021-06-07 21:43:38\n",
      "2021-06-07 21:43:40\n",
      "2021-06-07 21:43:53\n",
      "2021-06-07 23:32:18\n",
      "2021-06-07 23:32:21\n",
      "2021-06-07 23:32:23\n",
      "2021-06-07 23:32:25\n",
      "2021-06-07 23:32:28\n",
      "2021-06-07 23:32:30\n",
      "2021-06-07 23:32:33\n",
      "2021-06-07 23:32:35\n",
      "2021-06-07 23:32:38\n",
      "2021-06-07 23:32:40\n",
      "2021-06-07 23:32:43\n",
      "2021-06-07 23:32:45\n",
      "2021-06-07 23:32:47\n",
      "2021-06-07 23:32:50\n",
      "2021-06-07 23:32:52\n",
      "2021-06-07 23:32:54\n",
      "2021-06-07 23:32:57\n",
      "2021-06-07 23:32:59\n",
      "2021-06-07 23:33:04\n",
      "2021-06-07 23:33:06\n",
      "2021-06-07 23:33:09\n",
      "2021-06-07 23:33:11\n",
      "2021-06-07 23:33:13\n",
      "2021-06-07 23:33:15\n",
      "2021-06-07 23:33:20\n",
      "2021-06-07 23:33:23\n",
      "2021-06-07 23:33:25\n",
      "2021-06-07 23:33:27\n",
      "2021-06-07 23:34:08\n",
      "2021-06-07 23:34:11\n",
      "2021-06-07 23:34:13\n",
      "2021-06-07 23:34:15\n",
      "2021-06-07 23:34:18\n",
      "2021-06-07 23:34:21\n",
      "2021-06-07 23:34:23\n",
      "2021-06-07 23:34:25\n",
      "2021-06-07 23:34:27\n",
      "2021-06-07 23:34:30\n",
      "2021-06-07 23:34:32\n",
      "2021-06-07 23:34:37\n",
      "2021-06-07 23:34:40\n",
      "2021-06-07 23:34:42\n",
      "2021-06-07 23:34:45\n",
      "2021-06-07 23:34:53\n"
     ]
    },
    {
     "data": {
      "image/png": "[encoded data removed]",
      "text/plain": [
       "<Figure size 432x288 with 1 Axes>"
      ]
     },
     "metadata": {
      "needs_background": "light"
     },
     "output_type": "display_data"
    }
   ],
   "source": [
    "#Computamos subidas\n",
    "f = open(\"orp-up.tsv\", \"a\")\n",
    "\n",
    "avg_up=np.zeros((len(series),2))\n",
    "for i in range(0,len(series)):\n",
    "        avg_up[i][1]=avg(getSubWindowFP(series,i,baseP,baseN))-avg(getSubWindowFP(series,i,nowP,nowN))\n",
    "        avg_up[i][0]=series[i][0]\n",
    "        f.write(str(datetime.fromtimestamp(avg_up[i][0]))+\"\\t\")\n",
    "        if(avg_up[i][1]>3):\n",
    "            print( datetime.fromtimestamp(avg_up[i][0]))\n",
    "            f.write(\"1\\n\")\n",
    "        else:\n",
    "            f.write(\"0\\n\")\n",
    "f.close()            \n",
    "series2 = pd.DataFrame({'Object1':avg_up[:,0],'Object2':avg_up[:,1]})\n",
    "series2.plot(x='Object1', y='Object2')\n",
    "pyplot.show()"
   ]
  },
  {
   "cell_type": "code",
   "execution_count": 18,
   "id": "deluxe-expert",
   "metadata": {},
   "outputs": [
    {
     "name": "stdout",
     "output_type": "stream",
     "text": [
      "2021-06-07 14:25:14\n",
      "2021-06-07 14:25:16\n",
      "2021-06-07 14:25:18\n",
      "2021-06-07 14:25:20\n",
      "2021-06-07 14:25:23\n",
      "2021-06-07 14:25:25\n",
      "2021-06-07 14:25:30\n",
      "2021-06-07 14:25:33\n",
      "2021-06-07 14:25:35\n",
      "2021-06-07 14:25:37\n",
      "2021-06-07 14:25:40\n",
      "2021-06-07 14:25:42\n",
      "2021-06-07 14:25:45\n",
      "2021-06-07 14:25:47\n",
      "2021-06-07 14:25:49\n",
      "2021-06-07 14:25:52\n",
      "2021-06-07 14:25:54\n",
      "2021-06-07 14:25:57\n",
      "2021-06-07 14:26:00\n",
      "2021-06-07 14:26:02\n",
      "2021-06-07 14:26:04\n",
      "2021-06-07 14:26:07\n",
      "2021-06-07 14:26:09\n",
      "2021-06-07 14:26:12\n",
      "2021-06-07 14:26:17\n",
      "2021-06-07 14:26:19\n",
      "2021-06-07 14:26:21\n",
      "2021-06-07 14:26:24\n",
      "2021-06-07 19:20:41\n",
      "2021-06-07 19:20:43\n",
      "2021-06-07 19:20:46\n",
      "2021-06-07 19:20:48\n",
      "2021-06-07 19:20:51\n",
      "2021-06-07 19:20:57\n",
      "2021-06-07 19:20:59\n",
      "2021-06-07 19:21:01\n",
      "2021-06-07 19:21:03\n",
      "2021-06-07 19:21:06\n",
      "2021-06-07 19:21:08\n",
      "2021-06-07 19:21:11\n",
      "2021-06-07 19:21:13\n",
      "2021-06-07 19:21:15\n",
      "2021-06-07 19:21:18\n",
      "2021-06-07 19:21:20\n",
      "2021-06-07 19:21:22\n",
      "2021-06-07 19:21:28\n",
      "2021-06-07 19:21:30\n",
      "2021-06-07 19:21:32\n",
      "2021-06-07 19:21:35\n",
      "2021-06-07 19:21:37\n",
      "2021-06-07 19:21:43\n",
      "2021-06-07 21:42:25\n",
      "2021-06-07 21:42:30\n",
      "2021-06-07 21:42:35\n",
      "2021-06-07 21:42:37\n",
      "2021-06-07 21:42:39\n",
      "2021-06-07 21:42:42\n",
      "2021-06-07 21:42:44\n",
      "2021-06-07 21:42:47\n",
      "2021-06-07 21:42:50\n",
      "2021-06-07 21:42:52\n",
      "2021-06-07 21:42:54\n",
      "2021-06-07 21:42:56\n",
      "2021-06-07 23:33:32\n",
      "2021-06-07 23:33:34\n",
      "2021-06-07 23:33:36\n",
      "2021-06-07 23:33:39\n",
      "2021-06-07 23:33:41\n",
      "2021-06-07 23:33:44\n",
      "2021-06-07 23:33:46\n",
      "2021-06-07 23:33:51\n",
      "2021-06-07 23:33:54\n",
      "2021-06-07 23:33:56\n",
      "2021-06-07 23:33:58\n",
      "2021-06-07 23:34:01\n"
     ]
    },
    {
     "data": {
      "image/png": "[encoded data removed]",
      "text/plain": [
       "<Figure size 432x288 with 1 Axes>"
      ]
     },
     "metadata": {
      "needs_background": "light"
     },
     "output_type": "display_data"
    }
   ],
   "source": [
    "#Computamos subidas\n",
    "avg_down=np.zeros((len(series),2))\n",
    "f = open(\"orp-down.tsv\", \"w\")\n",
    "for i in range(0,len(series)):\n",
    "        avg_down[i][1]=avg(getSubWindowFP(series,i,baseP,baseN))-avg(getSubWindowFP(series,i,nowP,nowN))\n",
    "        avg_down[i][0]=series[i][0]\n",
    "        f.write(str(datetime.fromtimestamp(avg_up[i][0]))+\"\\t\")\n",
    "        if(avg_down[i][1]<-5):\n",
    "            print( datetime.fromtimestamp(avg_down[i][0]))\n",
    "            f.write(\"1\\n\")\n",
    "        else:\n",
    "            f.write(\"0\\n\")\n",
    "f.close()               \n",
    "series2 = pd.DataFrame({'Object1':avg_down[:,0],'Object2':avg_down[:,1]})\n",
    "series2.plot(x='Object1', y='Object2')\n",
    "pyplot.show()"
   ]
  },
  {
   "cell_type": "code",
   "execution_count": null,
   "id": "silent-azerbaijan",
   "metadata": {},
   "outputs": [],
   "source": []
  }
 ],
 "metadata": {
  "kernelspec": {
   "display_name": "Python 3",
   "language": "python",
   "name": "python3"
  },
  "language_info": {
   "codemirror_mode": {
    "name": "ipython",
    "version": 3
   },
   "file_extension": ".py",
   "mimetype": "text/x-python",
   "name": "python",
   "nbconvert_exporter": "python",
   "pygments_lexer": "ipython3",
   "version": "3.8.7"
  }
 },
 "nbformat": 4,
 "nbformat_minor": 5
}
