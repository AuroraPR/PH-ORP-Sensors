{
 "cells": [
  {
   "cell_type": "code",
   "execution_count": 1,
   "id": "determined-franklin",
   "metadata": {},
   "outputs": [
    {
     "data": {
      "image/png": "[encoded data removed]",
      "text/plain": [
       "<Figure size 432x288 with 1 Axes>"
      ]
     },
     "metadata": {
      "needs_background": "light"
     },
     "output_type": "display_data"
    },
    {
     "name": "stdout",
     "output_type": "stream",
     "text": [
      "(15682, 2)\n"
     ]
    }
   ],
   "source": [
    "from pandas import read_csv\n",
    "from matplotlib import pyplot\n",
    "import sys\n",
    "import numpy as np\n",
    "import pandas as pd\n",
    "\n",
    "file=\"dataPH.18786.txt\"\n",
    "\n",
    "\n",
    "noiseP=-30\n",
    "noiseN=5\n",
    "\n",
    "smoothP=-30\n",
    "smoothN=15\n",
    "\n",
    "baseP=-30\n",
    "baseN=5\n",
    "\n",
    "nowP=-10\n",
    "nowN=5\n",
    "\n",
    "threshold=0.2\n",
    "\n",
    "series=read_csv(file, sep=\"\\t\", header=None,parse_dates=True)\n",
    "series=series.values\n",
    "series\n",
    "\n",
    "\n",
    "series2 = pd.DataFrame(series)\n",
    "series2.plot()\n",
    "pyplot.show()\n",
    "\n",
    "print(series.shape)"
   ]
  },
  {
   "cell_type": "code",
   "execution_count": 2,
   "id": "informational-oxygen",
   "metadata": {},
   "outputs": [
    {
     "data": {
      "text/plain": [
       "[5, 4, 3, 2, 1]"
      ]
     },
     "execution_count": 2,
     "metadata": {},
     "output_type": "execute_result"
    }
   ],
   "source": [
    "list(reversed(range(1,6)))"
   ]
  },
  {
   "cell_type": "code",
   "execution_count": 3,
   "id": "color-concept",
   "metadata": {},
   "outputs": [
    {
     "name": "stdout",
     "output_type": "stream",
     "text": [
      "['06/08/2021 02:00:00' '06/08/2021 02:00:03' '06/08/2021 02:00:06' ...\n",
      " '06/08/2021 13:33:00' '06/08/2021 13:33:02' '06/08/2021 13:33:05']\n",
      "[1623110400.0 1623110403.0 1623110406.0 ... 1623151980.0 1623151982.0\n",
      " 1623151985.0]\n"
     ]
    },
    {
     "data": {
      "image/png": "[encoded data removed]",
      "text/plain": [
       "<Figure size 432x288 with 1 Axes>"
      ]
     },
     "metadata": {
      "needs_background": "light"
     },
     "output_type": "display_data"
    }
   ],
   "source": [
    "from datetime import datetime\n",
    "\n",
    "print((series[:,0]))\n",
    "\n",
    "for i in series:\n",
    "    i[0]=datetime.strptime(i[0], '%m/%d/%Y %H:%M:%S').timestamp()\n",
    "\n",
    "print((series[:,0]))\n",
    "\n",
    "series2 = pd.DataFrame({'Object1':series[:,0],'Object2':series[:,1]})\n",
    "series2.plot(x='Object1', y='Object2')\n",
    "pyplot.show()"
   ]
  },
  {
   "cell_type": "code",
   "execution_count": 4,
   "id": "elementary-bhutan",
   "metadata": {},
   "outputs": [],
   "source": [
    "def getSubWindow(v,i,incT):\n",
    "    t0=v[i][0]\n",
    "    ret=[]\n",
    "    if(incT>0):\n",
    "        for j in range(i+1,len(v)):\n",
    "            if(v[j][0]<= t0+incT):\n",
    "                if(v[j][1]>=0):\n",
    "                    ret.append(v[j][1])\n",
    "            else:\n",
    "                 return ret\n",
    "    else:\n",
    "        for j in reversed(range(0,i-1)):\n",
    "            if(v[j][0]>= t0+incT):\n",
    "                if(v[j][1]>=0):\n",
    "                    ret.append(v[j][1])\n",
    "            else:\n",
    "                 return ret\n",
    "    return ret       "
   ]
  },
  {
   "cell_type": "code",
   "execution_count": 5,
   "id": "photographic-partition",
   "metadata": {},
   "outputs": [
    {
     "name": "stdout",
     "output_type": "stream",
     "text": [
      "[8.15, 8.15, 8.16, 8.16]\n",
      "8.155000000000001\n"
     ]
    }
   ],
   "source": [
    "getSubWindow(series,11,-5)\n",
    "\n",
    "def avg(lst):\n",
    "    if(len(lst)==0):\n",
    "        return -1\n",
    "    return sum(lst) / len(lst)\n",
    "\n",
    "print(getSubWindow(series,11,-15))\n",
    "print(avg(getSubWindow(series,11,-15)))\n",
    "\n",
    "\n"
   ]
  },
  {
   "cell_type": "code",
   "execution_count": 6,
   "id": "caroline-tutorial",
   "metadata": {},
   "outputs": [
    {
     "data": {
      "text/plain": [
       "[8.15, 8.16, 8.15, 8.15]"
      ]
     },
     "execution_count": 6,
     "metadata": {},
     "output_type": "execute_result"
    }
   ],
   "source": [
    "def getSubWindowFP(v,i,incTF, incTP):\n",
    "    return getSubWindow(v,i,incTF)+(getSubWindow(v,i,incTP))\n",
    "\n",
    "getSubWindowFP(series,11,-5,10)"
   ]
  },
  {
   "cell_type": "code",
   "execution_count": 7,
   "id": "similar-alberta",
   "metadata": {},
   "outputs": [
    {
     "name": "stdout",
     "output_type": "stream",
     "text": [
      "[8.2, 8.2, 8.2, 8.2, 8.2, 8.2, 8.2, 8.2, 8.2, 8.2, 8.2, 8.18, 8.19] 8.197692307692309\n",
      "[8.24, 8.24, 8.24, 8.24, 8.24, 8.24, 8.24, 8.24, 8.24, 8.24, 8.21, 8.22] 8.235833333333332\n",
      "[8.3, 8.3, 8.3, 8.3, 8.3, 8.3, 8.3, 8.3, 8.3, 8.3, 8.3, 8.29, 8.29] 8.298461538461536\n",
      "[8.32, 8.32, 8.32, 8.32, 8.32, 8.32, 8.32, 8.32, 8.32, 8.32, 8.32, 8.31, 8.32] 8.319230769230767\n",
      "[8.37, 8.37, 8.37, 8.36, 8.33, 8.35, 8.35, 8.36, 8.35, 8.35, 8.36, 8.37] 8.3575\n",
      "[8.38, 8.37, 8.37, 8.37, 8.37, 8.37, 8.37, 8.37, 8.37, 8.37, 8.36, 8.37] 8.37\n",
      "[6.02, 6.01, 6.01, 6.01, 6.01, 6.01, 6.02, 6.02, 6.02, 6.02, 6.02, 6.01, 6.01] 6.014615384615383\n",
      "[7.77, 7.77, 7.77, 7.77, 7.77, 7.77, 7.77, 7.77, 7.74, 7.76] 7.765999999999998\n",
      "[8.16, 8.16, 8.16, 8.16, 8.16, 8.16, 8.16, 8.16, 8.16, 8.16, 8.16, 8.15, 8.16] 8.159230769230767\n",
      "[6.77, 6.81, 6.84, 6.87, 6.91, 6.99, 7.23, 7.58, 7.81, 7.85, 6.75, 6.76] 7.0975\n",
      "[8.02, 8.02, 8.02, 8.02, 8.02, 8.02, 8.02, 8.02, 8.02, 8.02, 8.02, 8.01, 8.02] 8.019230769230766\n",
      "[8.02, 8.02, 8.02, 8.02, 8.02, 8.02, 8.02, 8.02, 8.02, 8.02, 8.01, 8.02] 8.019166666666665\n",
      "[8.14, 8.14, 8.14, 8.14, 8.14, 8.14, 8.14, 8.14, 8.14, 8.14, 8.14, 8.13, 8.14] 8.13923076923077\n",
      "[7.65, 7.66, 7.66, 7.66, 7.67, 7.69, 7.7, 7.73, 7.76, 7.81, 7.88, 7.63, 7.64] 7.703076923076923\n",
      "[7.8, 7.8, 7.8, 7.8, 7.8, 7.8, 7.79, 7.79, 7.78, 7.78, 7.8, 7.8] 7.794999999999999\n",
      "[7.9, 7.9, 7.9, 7.9, 7.9, 7.9, 7.9, 7.9, 7.9, 7.9, 7.9, 7.91, 7.91] 7.901538461538461\n",
      "[7.92, 7.92, 7.92, 7.92, 7.92, 7.92, 7.92, 7.92, 7.92, 7.92, 7.92, 7.91, 7.92] 7.9192307692307695\n",
      "[8.02, 8.03, 8.02, 8.02, 8.02, 8.02, 8.02, 8.02, 8.02, 8.02, 8.02, 8.02, 8.02] 8.020769230769229\n",
      "[8.15, 8.14, 8.15, 8.14, 8.14, 8.14, 8.14, 8.14, 8.14, 8.14, 8.14, 8.14] 8.141666666666667\n",
      "[7.84, 7.84, 7.84, 7.84, 7.84, 7.84, 7.84, 7.84, 7.84, 7.84, 7.82, 7.83] 7.837500000000002\n",
      "[7.83, 7.84, 7.83, 7.84, 7.84, 7.84, 7.83, 7.84, 7.83, 7.83, 7.84, 7.84] 7.835833333333333\n"
     ]
    }
   ],
   "source": [
    "#Quitamos valores puntuales feos 0,-1\n",
    "for i in range(0,len(series)):\n",
    "    if(series[i][1]<=0):\n",
    "        print(getSubWindowFP(series,i,noiseP,noiseN),avg(getSubWindowFP(series,i,noiseP,noiseN)))\n",
    "        series[i][1]=avg(getSubWindowFP(series,i,noiseP,noiseN))\n",
    "        "
   ]
  },
  {
   "cell_type": "code",
   "execution_count": 8,
   "id": "superior-mississippi",
   "metadata": {},
   "outputs": [
    {
     "name": "stdout",
     "output_type": "stream",
     "text": [
      "[[1623110400.0 8.15]\n",
      " [1623110403.0 8.15]\n",
      " [1623110406.0 8.16]\n",
      " ...\n",
      " [1623151980.0 7.86]\n",
      " [1623151982.0 7.86]\n",
      " [1623151985.0 7.86]]\n"
     ]
    }
   ],
   "source": [
    "print(series)"
   ]
  },
  {
   "cell_type": "code",
   "execution_count": 9,
   "id": "metallic-marketing",
   "metadata": {},
   "outputs": [
    {
     "name": "stdout",
     "output_type": "stream",
     "text": [
      "15682\n"
     ]
    },
    {
     "data": {
      "image/png": "[encoded data removed]",
      "text/plain": [
       "<Figure size 432x288 with 1 Axes>"
      ]
     },
     "metadata": {
      "needs_background": "light"
     },
     "output_type": "display_data"
    }
   ],
   "source": [
    "print(len(series))\n",
    "series2 = pd.DataFrame({'Object1':series[:,0],'Object2':series[:,1]})\n",
    "series2.plot(x='Object1', y='Object2')\n",
    "pyplot.show()"
   ]
  },
  {
   "cell_type": "code",
   "execution_count": 10,
   "id": "super-collector",
   "metadata": {},
   "outputs": [
    {
     "data": {
      "image/png": "[encoded data removed]",
      "text/plain": [
       "<Figure size 432x288 with 1 Axes>"
      ]
     },
     "metadata": {
      "needs_background": "light"
     },
     "output_type": "display_data"
    }
   ],
   "source": [
    "#Quitamos valores puntuales feos 0,-1\n",
    "avg_series=np.zeros((len(series),2))\n",
    "for i in range(0,len(series)):\n",
    "        avg_series[i][1]=avg(getSubWindowFP(series,i,smoothP,smoothN))\n",
    "        avg_series[i][0]=series[i][0]\n",
    "series2 = pd.DataFrame({'Object1':avg_series[:,0],'Object2':avg_series[:,1]})\n",
    "series2.plot(x='Object1', y='Object2')\n",
    "pyplot.show()"
   ]
  },
  {
   "cell_type": "code",
   "execution_count": 11,
   "id": "front-arbitration",
   "metadata": {},
   "outputs": [
    {
     "name": "stdout",
     "output_type": "stream",
     "text": [
      "2021-06-08 06:40:34\n",
      "2021-06-08 06:40:37\n",
      "2021-06-08 06:40:39\n",
      "2021-06-08 06:40:41\n",
      "2021-06-08 06:40:44\n",
      "2021-06-08 06:40:46\n",
      "2021-06-08 06:40:49\n",
      "2021-06-08 06:40:51\n",
      "2021-06-08 06:40:53\n",
      "2021-06-08 06:40:56\n",
      "2021-06-08 06:40:58\n",
      "2021-06-08 06:41:00\n",
      "2021-06-08 06:41:05\n",
      "2021-06-08 06:41:07\n",
      "2021-06-08 06:41:10\n",
      "2021-06-08 06:41:12\n",
      "2021-06-08 06:41:14\n",
      "2021-06-08 07:42:37\n",
      "2021-06-08 07:42:39\n",
      "2021-06-08 07:42:42\n",
      "2021-06-08 07:42:48\n",
      "2021-06-08 07:49:19\n",
      "2021-06-08 07:49:24\n",
      "2021-06-08 07:49:28\n",
      "2021-06-08 07:49:31\n",
      "2021-06-08 07:49:33\n",
      "2021-06-08 07:49:35\n",
      "2021-06-08 07:49:38\n",
      "2021-06-08 07:49:40\n",
      "2021-06-08 07:49:42\n",
      "2021-06-08 07:50:45\n",
      "2021-06-08 09:07:27\n",
      "2021-06-08 09:07:32\n",
      "2021-06-08 09:07:34\n",
      "2021-06-08 09:07:37\n",
      "2021-06-08 09:07:39\n",
      "2021-06-08 09:42:46\n",
      "2021-06-08 09:42:51\n",
      "2021-06-08 09:42:53\n",
      "2021-06-08 09:42:55\n",
      "2021-06-08 09:42:57\n",
      "2021-06-08 09:43:00\n",
      "2021-06-08 09:43:02\n",
      "2021-06-08 09:43:05\n",
      "2021-06-08 09:43:07\n",
      "2021-06-08 10:49:35\n",
      "2021-06-08 10:49:37\n",
      "2021-06-08 10:49:40\n",
      "2021-06-08 10:49:42\n",
      "2021-06-08 10:49:45\n",
      "2021-06-08 10:49:48\n",
      "2021-06-08 12:51:00\n",
      "2021-06-08 12:51:02\n",
      "2021-06-08 12:51:05\n",
      "2021-06-08 12:51:07\n",
      "2021-06-08 12:51:09\n",
      "2021-06-08 12:51:15\n",
      "2021-06-08 12:51:17\n"
     ]
    },
    {
     "data": {
      "image/png": "[encoded data removed]",
      "text/plain": [
       "<Figure size 432x288 with 1 Axes>"
      ]
     },
     "metadata": {
      "needs_background": "light"
     },
     "output_type": "display_data"
    }
   ],
   "source": [
    "#Computamos bajadas\n",
    "\n",
    "f = open(\"ph-down.tsv\", \"w\")\n",
    "\n",
    "avg_series2=np.zeros((len(series),2))\n",
    "for i in range(0,len(series)):\n",
    "        avg_series2[i][1]=avg(getSubWindowFP(series,i,baseP,baseN))-avg(getSubWindowFP(series,i,nowP,nowN))\n",
    "        avg_series2[i][0]=series[i][0]\n",
    "        f.write(str(datetime.fromtimestamp(avg_series2[i][0]))+\"\\t\")\n",
    "        if(avg_series2[i][1]>threshold):\n",
    "            print( datetime.fromtimestamp(avg_series2[i][0]))\n",
    "            f.write(\"1\\n\")\n",
    "        else:\n",
    "            f.write(\"0\\n\")\n",
    "f.close()\n",
    "\n",
    "series2 = pd.DataFrame({'Object1':avg_series2[:,0],'Object2':avg_series2[:,1]})\n",
    "series2.plot(x='Object1', y='Object2')\n",
    "pyplot.show()"
   ]
  },
  {
   "cell_type": "code",
   "execution_count": null,
   "id": "opened-material",
   "metadata": {},
   "outputs": [],
   "source": []
  }
 ],
 "metadata": {
  "kernelspec": {
   "display_name": "Python 3",
   "language": "python",
   "name": "python3"
  },
  "language_info": {
   "codemirror_mode": {
    "name": "ipython",
    "version": 3
   },
   "file_extension": ".py",
   "mimetype": "text/x-python",
   "name": "python",
   "nbconvert_exporter": "python",
   "pygments_lexer": "ipython3",
   "version": "3.8.7"
  }
 },
 "nbformat": 4,
 "nbformat_minor": 5
}
